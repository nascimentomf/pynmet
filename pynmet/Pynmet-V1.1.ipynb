{
 "cells": [
  {
   "cell_type": "markdown",
   "metadata": {},
   "source": [
    "# Ler dados das estações automaticas do INMET"
   ]
  },
  {
   "cell_type": "markdown",
   "metadata": {},
   "source": [
    "v1.1 implementado a busca das tabelas no banco de dados."
   ]
  },
  {
   "cell_type": "code",
   "execution_count": 1,
   "metadata": {},
   "outputs": [],
   "source": [
    "#importar as bibliotecas\n",
    "import pandas as pd\n",
    "import sqlite3 as sql\n",
    "import datetime as dt\n",
    "import time"
   ]
  },
  {
   "cell_type": "markdown",
   "metadata": {},
   "source": [
    "# Buscar a situação das estacaoes automaticas\n"
   ]
  },
  {
   "cell_type": "raw",
   "metadata": {},
   "source": [
    "Recuperar dados horários referentes a estação automática ou manual:\n",
    "\n",
    "https://apitempo.inmet.gov.br/estacao/<data_inicial>/<data_final>/<cod_estacao>\n",
    "\n",
    "https://apitempo.inmet.gov.br/estacao/2019-10-23/2019-10-23/A301\n",
    "\n",
    "Sendo data no formato AAAA-MM-DD (ex: 2019-10-23)"
   ]
  },
  {
   "cell_type": "raw",
   "metadata": {},
   "source": [
    "ATRIBUTOS HORARIOS\n",
    "CODIGO ATRIBUTO\tDESCRIÇÃO\tUNIDADE\n",
    "VEN_DIR\tVENTO, DIREÇÃO HORARIA (gr)\t° (gr)\n",
    "CHUVA\tPRECIPITAÇÃO TOTAL, HORÁRIO\tmm\n",
    "PRE_INS\tPRESSÃO ATMOSFÉRICA AO NÍVEL DA ESTACÃO, HORARIA\tmB\n",
    "PRE_MIN\tPRESSÃO ATMOSFÉRICA MIN. NA HORA ANT. (AUT)\tmB\n",
    "UMD_MAX\tUMIDADE REL. MAX. NA HORA ANT. (AUT)\t%\n",
    "PRE_MAX\tPRESSÃO ATMOSFÉRICA MAX.NA HORA ANT. (AUT)\tmB\n",
    "VEN_VEL\tVENTO, VELOCIDADE HORARIA\tm/s\n",
    "PTO_MIN\tTEMPERATURA ORVALHO MIN. NA HORA ANT. (AUT)\t°C\n",
    "TEM_MAX\tTEMPERATURA MÁXIMA NA HORA ANT. (AUT)\t°C\n",
    "RAD_GLO\tRADIAÇÃO GLOBAL\tW/m²\n",
    "PTO_INS\tTEMPERATURA DO PONTO DE ORVALHO\t°C\n",
    "VEN_RAJ\tVENTO, RAJADA MÁXIMA\tm/s\n",
    "TEM_INS\tTEMPERATURA DO AR - BULBO SECO, HORARIA\t°C\n",
    "UMD_INS\tUMIDADE RELATIVA DO AR, HORARIA\t%\n",
    "TEM_MIN\tTEMPERATURA MÍNIMA NA HORA ANT. (AUT)\t°C\n",
    "UMD_MIN\tUMIDADE REL. MIN. NA HORA ANT. (AUT)\t%\n",
    "PTO_MAX\tTEMPERATURA ORVALHO MAX. NA HORA ANT. (AUT)\t°C"
   ]
  },
  {
   "cell_type": "markdown",
   "metadata": {},
   "source": [
    "# TODO: implementar a leitura do codigo da estacao a partir do arquivo CSV"
   ]
  },
  {
   "cell_type": "markdown",
   "metadata": {},
   "source": [
    "Link tutorial json with pans\n",
    "https://stackabuse.com/reading-and-writing-json-files-in-python-with-pandas/#:~:text=To%20read%20a%20JSON%20file,form%20of%20columns%20and%20rows."
   ]
  },
  {
   "cell_type": "markdown",
   "metadata": {},
   "source": [
    "# Ler dados a partir do banco de dados pynmet"
   ]
  },
  {
   "cell_type": "markdown",
   "metadata": {},
   "source": [
    "link tutorial sqlite\n",
    "https://towardsdatascience.com/python-pandas-and-sqlite-a0e2c052456f"
   ]
  },
  {
   "cell_type": "markdown",
   "metadata": {},
   "source": [
    "# Parte do código que deve ser executada uma única vez... "
   ]
  },
  {
   "cell_type": "code",
   "execution_count": 1676,
   "metadata": {},
   "outputs": [],
   "source": [
    "# codigo da estacao que desejamos atualizar\n",
    "#codigo=\"A803\"\n",
    "# baixar todas as tabelas\n",
    "conn = sql.connect(\"inmet.db\")\n",
    "cursor = conn.cursor()\n",
    "\n",
    "cursor.execute(\"SELECT name FROM sqlite_master WHERE type='table';\")\n",
    "# retorna uma lista com todas as estacoes armazenadas\n",
    "tabelas = cursor.fetchall()\n",
    "#fechar a conexao com o banco de dados\n",
    "cursor.close()\n",
    "#cria o index de controle\n",
    "navegacao = 0"
   ]
  },
  {
   "cell_type": "code",
   "execution_count": 3,
   "metadata": {},
   "outputs": [],
   "source": [
    "#Organiza uma lista para iniiar as atualizacoes om a API do INMET\n",
    "lista = []\n",
    "for i in range(0,len(tabelas)):\n",
    "    #print (tabelas[i][0])\n",
    "    lista.append(tabelas[i][0])"
   ]
  },
  {
   "cell_type": "code",
   "execution_count": 4,
   "metadata": {},
   "outputs": [],
   "source": [
    "#ordenar a lista\n",
    "lista.sort()"
   ]
  },
  {
   "cell_type": "markdown",
   "metadata": {},
   "source": [
    "# Parte do codigo responsavel por atualizar...\n",
    "# Sempre voltar aqui para atualizar a próxima estacão"
   ]
  },
  {
   "cell_type": "code",
   "execution_count": 2280,
   "metadata": {},
   "outputs": [],
   "source": [
    "# baixar todas as datas\n",
    "\n",
    "codigo=lista[navegacao]\n",
    "conn = sql.connect(\"inmet.db\")\n",
    "query = \"\"\"\n",
    "SELECT TIME FROM {codigo}\n",
    "\"\"\".format(codigo=codigo)\n",
    "db = pd.read_sql(query,conn)"
   ]
  },
  {
   "cell_type": "markdown",
   "metadata": {},
   "source": [
    "# Buscar a data do ultimo registro cadastrado no banco de dados"
   ]
  },
  {
   "cell_type": "code",
   "execution_count": 2281,
   "metadata": {},
   "outputs": [],
   "source": [
    "#definir TIME como indice\n",
    "db.set_index('TIME', inplace=True)"
   ]
  },
  {
   "cell_type": "code",
   "execution_count": 2282,
   "metadata": {},
   "outputs": [
    {
     "name": "stdout",
     "output_type": "stream",
     "text": [
      "Tabela para a estacao A301 foi encontrada com sucesso\n"
     ]
    }
   ],
   "source": [
    "if len(db) == 0:\n",
    "    print('Tabela para a estacao {codigo} nao existe ou está vazia'.format(codigo=codigo))\n",
    "else:\n",
    "    print('Tabela para a estacao {codigo} foi encontrada com sucesso'.format(codigo=codigo))"
   ]
  },
  {
   "cell_type": "markdown",
   "metadata": {},
   "source": [
    "# Checar registros de datas duplicadas"
   ]
  },
  {
   "cell_type": "code",
   "execution_count": 2283,
   "metadata": {},
   "outputs": [
    {
     "name": "stdout",
     "output_type": "stream",
     "text": [
      "Tudo  em ordem na estacao A301\n"
     ]
    }
   ],
   "source": [
    "if db[db.index.duplicated()].empty:\n",
    "    print('Tudo  em ordem na estacao {codigo}'.format(codigo=codigo))\n",
    "else:\n",
    "    print('Foram encontrados dados duplicados. Implementar solucao!!')"
   ]
  },
  {
   "cell_type": "code",
   "execution_count": 2284,
   "metadata": {},
   "outputs": [
    {
     "name": "stdout",
     "output_type": "stream",
     "text": [
      "2021-05-24\n"
     ]
    }
   ],
   "source": [
    "# formato de data para buscar na API do INMET\n",
    "fmt = \"%Y-%m-%d\"\n",
    "\n",
    "# ultimo registro cadastrdo da estacao\n",
    "data_u = db.index.max().split(' ')[0]\n",
    "\n",
    "#converte data do formato texto para o tipo datetime. Util para fazer operacoes de calculo com  data\n",
    "data_u = dt.datetime(int(data_u.split('-')[0]),int(data_u.split('-')[1]),int(data_u.split('-')[2]))\n",
    "\n",
    "print(data_u.strftime(fmt))\n"
   ]
  },
  {
   "cell_type": "markdown",
   "metadata": {},
   "source": [
    "# buscar um periodo entre a ultimo registro e o dia de hoje\n",
    "# * até o momento não existe um limitação quanto ao número de dias"
   ]
  },
  {
   "cell_type": "markdown",
   "metadata": {},
   "source": [
    "# definir alguns limites para o periodo.\n",
    "Não deve exceder a data final não deve exceder o dia de hoje"
   ]
  },
  {
   "cell_type": "code",
   "execution_count": 2285,
   "metadata": {},
   "outputs": [
    {
     "name": "stdout",
     "output_type": "stream",
     "text": [
      "Ultima data registrada: 2021-05-24\n",
      "intervalo de busca de 115 dias\n"
     ]
    }
   ],
   "source": [
    "data_h = dt.datetime.now()\n",
    "periodo = data_h - data_u\n",
    "print('Ultima data registrada: {data}'.format(data = data_u.strftime(fmt)))\n",
    "\n",
    "if (data_h.strftime(fmt) == (data_u.strftime(fmt))):\n",
    "    print('Estacao {codigo} esta atualizada'.format(codigo = codigo))\n",
    "    atualizar = False\n",
    "else:\n",
    "    print(\"intervalo de busca de {dias} dias\".format(dias=periodo.days))\n",
    "    atualizar = True"
   ]
  },
  {
   "cell_type": "code",
   "execution_count": 2286,
   "metadata": {},
   "outputs": [
    {
     "name": "stdout",
     "output_type": "stream",
     "text": [
      "2021-09-16\n"
     ]
    }
   ],
   "source": [
    "data_f = data_u + dt.timedelta(days=periodo.days)\n",
    "print(data_f.strftime(fmt))"
   ]
  },
  {
   "cell_type": "code",
   "execution_count": 2287,
   "metadata": {},
   "outputs": [
    {
     "name": "stdout",
     "output_type": "stream",
     "text": [
      "https://apitempo.inmet.gov.br/estacao/2021-05-24/2021-09-16/A301\n"
     ]
    }
   ],
   "source": [
    "data_i = data_u.strftime(fmt)\n",
    "data_f = data_f.strftime(fmt)\n",
    "\n",
    "url = \"https://apitempo.inmet.gov.br/estacao/\"+data_i+\"/\"+data_f+\"/\"+codigo\n",
    "\n",
    "if atualizar:\n",
    "    print(url)\n",
    "else:\n",
    "    print('Tudo esta em ordem com a estacao {codigo}'.format(codigo=codigo))"
   ]
  },
  {
   "cell_type": "markdown",
   "metadata": {},
   "source": [
    "# realizar a consulta pela API e criar o dateframe com o resultdo"
   ]
  },
  {
   "cell_type": "code",
   "execution_count": 2288,
   "metadata": {},
   "outputs": [],
   "source": [
    "if atualizar:\n",
    "    df = pd.read_json(url)\n",
    "else:\n",
    "    print('Nada a fazer. A estacao {codigo} esta atualizada'.format(codigo=codigo))"
   ]
  },
  {
   "cell_type": "markdown",
   "metadata": {},
   "source": [
    "# Seguir os passos do 1 ate o 8 caso seja necessário atualizar."
   ]
  },
  {
   "cell_type": "markdown",
   "metadata": {},
   "source": [
    "# 1. Renomear as colunas compativel com o padrão do Pynmet\n",
    "(https://stackoverflow.com/questions/11346283/renaming-columns-in-pandas)"
   ]
  },
  {
   "cell_type": "raw",
   "metadata": {},
   "source": [
    "header = ['Temperatura', 'Temperatura_max', 'Temperatura_min', 'Umidade',\n",
    "          'Umidade_max', 'Umidade_min', 'Ponto_orvalho',\n",
    "          'Ponto_orvalho_max', 'Ponto_orvalho_min', 'Pressao',\n",
    "          'Pressao_max', 'Pressao_min', 'Vento_velocidade', 'Vento_direcao',\n",
    "          'Vento_rajada', 'Radiacao', 'Precipitacao']\n",
    "https://github.com/sehnem/pynmet/tree/master/pynmet "
   ]
  },
  {
   "cell_type": "code",
   "execution_count": 2289,
   "metadata": {},
   "outputs": [],
   "source": [
    "df = df.rename(columns = {'TEM_INS':'Temperatura', 'TEM_MAX':'Temperatura_max', 'TEM_MIN':'Temperatura_min', 'UMD_INS':'Umidade',\n",
    "          'UMD_MAX':'Umidade_max', 'UMD_MIN':'Umidade_min', 'PTO_INS':'Ponto_orvalho',\n",
    "          'PTO_MAX':'Ponto_orvalho_max', 'PTO_MIN':'Ponto_orvalho_min', 'PRE_INS':'Pressao',\n",
    "          'PRE_MAX':'Pressao_max', 'PRE_MIN':'Pressao_min', 'VEN_VEL':'Vento_velocidade', 'VEN_DIR':'Vento_direcao',\n",
    "          'VEN_RAJ':'Vento_rajada', 'RAD_GLO':'Radiacao', 'CHUVA':'Precipitacao'})"
   ]
  },
  {
   "cell_type": "markdown",
   "metadata": {},
   "source": [
    "# 2. Criar datetime [2019/05/29 13:00:00 ] com as colunas 'DT_MEDICAO' e 'HR_MEDICAO'  \n",
    "\n",
    "\n",
    "# 3. Definir o datetime criado como index do dataframe"
   ]
  },
  {
   "cell_type": "code",
   "execution_count": 2290,
   "metadata": {},
   "outputs": [],
   "source": [
    "# ajuste da hora para ficar no padrao %H Ex 1 ao inves de 100\n",
    "df['HR_MEDICAO'] = df['HR_MEDICAO'].apply(lambda x: x/100).astype(int)\n",
    "#converte a data e hora para o tipo texto\n",
    "df[['DT_MEDICAO','HR_MEDICAO']] = df[['DT_MEDICAO','HR_MEDICAO']].astype(str)\n",
    "#Cria uma lista com o datetime no paadrao %Y-%m-%d%H 2020-05-01 13:00:00\n",
    "data = pd.to_datetime(df['DT_MEDICAO'] + df['HR_MEDICAO'], format=\"%Y-%m-%d%H\")\n",
    "#Associa o datetime ao indice dos dados baixados\n",
    "df.set_index(data, inplace=True)"
   ]
  },
  {
   "cell_type": "markdown",
   "metadata": {},
   "source": [
    "# 4. Apagar colunas que não precisamos \n",
    "['DT_MEDICAO','DC_NOME','VL_LATITUDE','UF','CD_ESTACAO','VL_LONGITUDE','HR_MEDICAO']"
   ]
  },
  {
   "cell_type": "code",
   "execution_count": 2291,
   "metadata": {},
   "outputs": [],
   "source": [
    "df.drop(['DT_MEDICAO','DC_NOME','VL_LATITUDE','UF','CD_ESTACAO','VL_LONGITUDE','HR_MEDICAO'], axis=1, inplace=True)"
   ]
  },
  {
   "cell_type": "markdown",
   "metadata": {},
   "source": [
    "# 5. Reordenar as colunas na sequencia armazenada no inmet.db\n",
    "(https://stackoverflow.com/questions/13148429/how-to-change-the-order-of-dataframe-columns)"
   ]
  },
  {
   "cell_type": "code",
   "execution_count": 2292,
   "metadata": {},
   "outputs": [],
   "source": [
    "df = df[['Temperatura', 'Temperatura_max', 'Temperatura_min', 'Umidade', 'Umidade_max', 'Umidade_min', 'Ponto_orvalho', 'Ponto_orvalho_max', 'Ponto_orvalho_min', 'Pressao', 'Pressao_max', 'Pressao_min', 'Vento_velocidade', 'Vento_direcao', 'Vento_rajada', 'Radiacao', 'Precipitacao']]"
   ]
  },
  {
   "cell_type": "markdown",
   "metadata": {},
   "source": [
    "# 6. verificar se o periodo baixado do INMET já está cadastrado no banco de dados do pynmet"
   ]
  },
  {
   "cell_type": "markdown",
   "metadata": {},
   "source": [
    "# 7. Remover linhas caso todos os valores sejam NA"
   ]
  },
  {
   "cell_type": "code",
   "execution_count": 2293,
   "metadata": {},
   "outputs": [],
   "source": [
    "# se no banco de dados a ultima informacao gravada foi a leitura das 13h do dia 20/05/2020,\n",
    "# então apenas devera mostrar as leituras a partir das 14h em diante do dia 20/05/2020.\n",
    "# evitar duplicar informações salvas no db\n",
    "dados = df[~df.index.isin(db.index)]"
   ]
  },
  {
   "cell_type": "code",
   "execution_count": 2294,
   "metadata": {},
   "outputs": [],
   "source": [
    "# elimina as linhas da data de hj que não tem cadastro no INMET.\n",
    "dados = dados.dropna(how='all')"
   ]
  },
  {
   "cell_type": "markdown",
   "metadata": {},
   "source": [
    "# Gravar as informações no banco de dados\n",
    "# Backup do arquivo antes de fazer alterações\n",
    "# Revisar os dados antes de salvar!!!!"
   ]
  },
  {
   "cell_type": "code",
   "execution_count": 2295,
   "metadata": {},
   "outputs": [
    {
     "data": {
      "text/html": [
       "<div>\n",
       "<style scoped>\n",
       "    .dataframe tbody tr th:only-of-type {\n",
       "        vertical-align: middle;\n",
       "    }\n",
       "\n",
       "    .dataframe tbody tr th {\n",
       "        vertical-align: top;\n",
       "    }\n",
       "\n",
       "    .dataframe thead th {\n",
       "        text-align: right;\n",
       "    }\n",
       "</style>\n",
       "<table border=\"1\" class=\"dataframe\">\n",
       "  <thead>\n",
       "    <tr style=\"text-align: right;\">\n",
       "      <th></th>\n",
       "      <th>Temperatura</th>\n",
       "      <th>Temperatura_max</th>\n",
       "      <th>Temperatura_min</th>\n",
       "      <th>Umidade</th>\n",
       "      <th>Umidade_max</th>\n",
       "      <th>Umidade_min</th>\n",
       "      <th>Ponto_orvalho</th>\n",
       "      <th>Ponto_orvalho_max</th>\n",
       "      <th>Ponto_orvalho_min</th>\n",
       "      <th>Pressao</th>\n",
       "      <th>Pressao_max</th>\n",
       "      <th>Pressao_min</th>\n",
       "      <th>Vento_velocidade</th>\n",
       "      <th>Vento_direcao</th>\n",
       "      <th>Vento_rajada</th>\n",
       "      <th>Radiacao</th>\n",
       "      <th>Precipitacao</th>\n",
       "    </tr>\n",
       "  </thead>\n",
       "  <tbody>\n",
       "    <tr>\n",
       "      <th>2021-05-24 16:00:00</th>\n",
       "      <td>30.3</td>\n",
       "      <td>30.5</td>\n",
       "      <td>28.2</td>\n",
       "      <td>59.0</td>\n",
       "      <td>69.0</td>\n",
       "      <td>59.0</td>\n",
       "      <td>21.4</td>\n",
       "      <td>22.4</td>\n",
       "      <td>20.4</td>\n",
       "      <td>1012.3</td>\n",
       "      <td>1013.1</td>\n",
       "      <td>1012.3</td>\n",
       "      <td>2.2</td>\n",
       "      <td>115.0</td>\n",
       "      <td>6.4</td>\n",
       "      <td>2320.934</td>\n",
       "      <td>0.0</td>\n",
       "    </tr>\n",
       "    <tr>\n",
       "      <th>2021-05-24 17:00:00</th>\n",
       "      <td>29.2</td>\n",
       "      <td>30.3</td>\n",
       "      <td>28.5</td>\n",
       "      <td>63.0</td>\n",
       "      <td>66.0</td>\n",
       "      <td>58.0</td>\n",
       "      <td>21.5</td>\n",
       "      <td>21.6</td>\n",
       "      <td>20.0</td>\n",
       "      <td>1011.6</td>\n",
       "      <td>1012.3</td>\n",
       "      <td>1011.6</td>\n",
       "      <td>2.1</td>\n",
       "      <td>121.0</td>\n",
       "      <td>5.9</td>\n",
       "      <td>1730.853</td>\n",
       "      <td>0.0</td>\n",
       "    </tr>\n",
       "    <tr>\n",
       "      <th>2021-05-24 18:00:00</th>\n",
       "      <td>29.1</td>\n",
       "      <td>30.0</td>\n",
       "      <td>29.1</td>\n",
       "      <td>61.0</td>\n",
       "      <td>63.0</td>\n",
       "      <td>58.0</td>\n",
       "      <td>20.9</td>\n",
       "      <td>21.8</td>\n",
       "      <td>20.6</td>\n",
       "      <td>1011.6</td>\n",
       "      <td>1011.6</td>\n",
       "      <td>1011.5</td>\n",
       "      <td>2.2</td>\n",
       "      <td>114.0</td>\n",
       "      <td>6.0</td>\n",
       "      <td>2171.761</td>\n",
       "      <td>0.0</td>\n",
       "    </tr>\n",
       "    <tr>\n",
       "      <th>2021-05-24 19:00:00</th>\n",
       "      <td>28.4</td>\n",
       "      <td>29.2</td>\n",
       "      <td>27.8</td>\n",
       "      <td>66.0</td>\n",
       "      <td>68.0</td>\n",
       "      <td>60.0</td>\n",
       "      <td>21.4</td>\n",
       "      <td>21.8</td>\n",
       "      <td>20.5</td>\n",
       "      <td>1011.6</td>\n",
       "      <td>1011.7</td>\n",
       "      <td>1011.5</td>\n",
       "      <td>1.7</td>\n",
       "      <td>110.0</td>\n",
       "      <td>6.2</td>\n",
       "      <td>1267.740</td>\n",
       "      <td>0.0</td>\n",
       "    </tr>\n",
       "    <tr>\n",
       "      <th>2021-05-24 20:00:00</th>\n",
       "      <td>26.7</td>\n",
       "      <td>28.4</td>\n",
       "      <td>26.7</td>\n",
       "      <td>73.0</td>\n",
       "      <td>73.0</td>\n",
       "      <td>66.0</td>\n",
       "      <td>21.4</td>\n",
       "      <td>21.5</td>\n",
       "      <td>21.1</td>\n",
       "      <td>1011.8</td>\n",
       "      <td>1011.9</td>\n",
       "      <td>1011.6</td>\n",
       "      <td>1.7</td>\n",
       "      <td>115.0</td>\n",
       "      <td>5.4</td>\n",
       "      <td>226.405</td>\n",
       "      <td>0.0</td>\n",
       "    </tr>\n",
       "    <tr>\n",
       "      <th>...</th>\n",
       "      <td>...</td>\n",
       "      <td>...</td>\n",
       "      <td>...</td>\n",
       "      <td>...</td>\n",
       "      <td>...</td>\n",
       "      <td>...</td>\n",
       "      <td>...</td>\n",
       "      <td>...</td>\n",
       "      <td>...</td>\n",
       "      <td>...</td>\n",
       "      <td>...</td>\n",
       "      <td>...</td>\n",
       "      <td>...</td>\n",
       "      <td>...</td>\n",
       "      <td>...</td>\n",
       "      <td>...</td>\n",
       "      <td>...</td>\n",
       "    </tr>\n",
       "    <tr>\n",
       "      <th>2021-09-15 08:00:00</th>\n",
       "      <td>23.6</td>\n",
       "      <td>23.7</td>\n",
       "      <td>23.5</td>\n",
       "      <td>99.0</td>\n",
       "      <td>100.0</td>\n",
       "      <td>99.0</td>\n",
       "      <td>23.5</td>\n",
       "      <td>23.7</td>\n",
       "      <td>23.4</td>\n",
       "      <td>1014.3</td>\n",
       "      <td>1014.3</td>\n",
       "      <td>1013.8</td>\n",
       "      <td>0.9</td>\n",
       "      <td>131.0</td>\n",
       "      <td>3.4</td>\n",
       "      <td>-2.574</td>\n",
       "      <td>0.0</td>\n",
       "    </tr>\n",
       "    <tr>\n",
       "      <th>2021-09-15 09:00:00</th>\n",
       "      <td>24.3</td>\n",
       "      <td>24.3</td>\n",
       "      <td>23.5</td>\n",
       "      <td>99.0</td>\n",
       "      <td>100.0</td>\n",
       "      <td>99.0</td>\n",
       "      <td>24.1</td>\n",
       "      <td>24.1</td>\n",
       "      <td>23.4</td>\n",
       "      <td>1014.8</td>\n",
       "      <td>1014.8</td>\n",
       "      <td>1014.3</td>\n",
       "      <td>1.7</td>\n",
       "      <td>127.0</td>\n",
       "      <td>3.7</td>\n",
       "      <td>86.410</td>\n",
       "      <td>0.0</td>\n",
       "    </tr>\n",
       "    <tr>\n",
       "      <th>2021-09-15 10:00:00</th>\n",
       "      <td>25.9</td>\n",
       "      <td>25.9</td>\n",
       "      <td>24.3</td>\n",
       "      <td>92.0</td>\n",
       "      <td>99.0</td>\n",
       "      <td>92.0</td>\n",
       "      <td>24.5</td>\n",
       "      <td>24.8</td>\n",
       "      <td>24.1</td>\n",
       "      <td>1015.4</td>\n",
       "      <td>1015.4</td>\n",
       "      <td>1014.8</td>\n",
       "      <td>2.1</td>\n",
       "      <td>115.0</td>\n",
       "      <td>5.4</td>\n",
       "      <td>538.194</td>\n",
       "      <td>0.0</td>\n",
       "    </tr>\n",
       "    <tr>\n",
       "      <th>2021-09-15 11:00:00</th>\n",
       "      <td>27.6</td>\n",
       "      <td>27.7</td>\n",
       "      <td>25.7</td>\n",
       "      <td>73.0</td>\n",
       "      <td>92.0</td>\n",
       "      <td>73.0</td>\n",
       "      <td>22.3</td>\n",
       "      <td>24.2</td>\n",
       "      <td>22.3</td>\n",
       "      <td>1015.9</td>\n",
       "      <td>1015.9</td>\n",
       "      <td>1015.4</td>\n",
       "      <td>2.4</td>\n",
       "      <td>120.0</td>\n",
       "      <td>7.0</td>\n",
       "      <td>1645.910</td>\n",
       "      <td>0.0</td>\n",
       "    </tr>\n",
       "    <tr>\n",
       "      <th>2021-09-15 12:00:00</th>\n",
       "      <td>27.3</td>\n",
       "      <td>27.9</td>\n",
       "      <td>27.1</td>\n",
       "      <td>74.0</td>\n",
       "      <td>77.0</td>\n",
       "      <td>72.0</td>\n",
       "      <td>22.2</td>\n",
       "      <td>23.2</td>\n",
       "      <td>21.9</td>\n",
       "      <td>1016.3</td>\n",
       "      <td>1016.3</td>\n",
       "      <td>1015.9</td>\n",
       "      <td>2.8</td>\n",
       "      <td>129.0</td>\n",
       "      <td>7.2</td>\n",
       "      <td>1746.090</td>\n",
       "      <td>0.0</td>\n",
       "    </tr>\n",
       "  </tbody>\n",
       "</table>\n",
       "<p>2723 rows × 17 columns</p>\n",
       "</div>"
      ],
      "text/plain": [
       "                     Temperatura  Temperatura_max  Temperatura_min  Umidade  \\\n",
       "2021-05-24 16:00:00         30.3             30.5             28.2     59.0   \n",
       "2021-05-24 17:00:00         29.2             30.3             28.5     63.0   \n",
       "2021-05-24 18:00:00         29.1             30.0             29.1     61.0   \n",
       "2021-05-24 19:00:00         28.4             29.2             27.8     66.0   \n",
       "2021-05-24 20:00:00         26.7             28.4             26.7     73.0   \n",
       "...                          ...              ...              ...      ...   \n",
       "2021-09-15 08:00:00         23.6             23.7             23.5     99.0   \n",
       "2021-09-15 09:00:00         24.3             24.3             23.5     99.0   \n",
       "2021-09-15 10:00:00         25.9             25.9             24.3     92.0   \n",
       "2021-09-15 11:00:00         27.6             27.7             25.7     73.0   \n",
       "2021-09-15 12:00:00         27.3             27.9             27.1     74.0   \n",
       "\n",
       "                     Umidade_max  Umidade_min  Ponto_orvalho  \\\n",
       "2021-05-24 16:00:00         69.0         59.0           21.4   \n",
       "2021-05-24 17:00:00         66.0         58.0           21.5   \n",
       "2021-05-24 18:00:00         63.0         58.0           20.9   \n",
       "2021-05-24 19:00:00         68.0         60.0           21.4   \n",
       "2021-05-24 20:00:00         73.0         66.0           21.4   \n",
       "...                          ...          ...            ...   \n",
       "2021-09-15 08:00:00        100.0         99.0           23.5   \n",
       "2021-09-15 09:00:00        100.0         99.0           24.1   \n",
       "2021-09-15 10:00:00         99.0         92.0           24.5   \n",
       "2021-09-15 11:00:00         92.0         73.0           22.3   \n",
       "2021-09-15 12:00:00         77.0         72.0           22.2   \n",
       "\n",
       "                     Ponto_orvalho_max  Ponto_orvalho_min  Pressao  \\\n",
       "2021-05-24 16:00:00               22.4               20.4   1012.3   \n",
       "2021-05-24 17:00:00               21.6               20.0   1011.6   \n",
       "2021-05-24 18:00:00               21.8               20.6   1011.6   \n",
       "2021-05-24 19:00:00               21.8               20.5   1011.6   \n",
       "2021-05-24 20:00:00               21.5               21.1   1011.8   \n",
       "...                                ...                ...      ...   \n",
       "2021-09-15 08:00:00               23.7               23.4   1014.3   \n",
       "2021-09-15 09:00:00               24.1               23.4   1014.8   \n",
       "2021-09-15 10:00:00               24.8               24.1   1015.4   \n",
       "2021-09-15 11:00:00               24.2               22.3   1015.9   \n",
       "2021-09-15 12:00:00               23.2               21.9   1016.3   \n",
       "\n",
       "                     Pressao_max  Pressao_min  Vento_velocidade  \\\n",
       "2021-05-24 16:00:00       1013.1       1012.3               2.2   \n",
       "2021-05-24 17:00:00       1012.3       1011.6               2.1   \n",
       "2021-05-24 18:00:00       1011.6       1011.5               2.2   \n",
       "2021-05-24 19:00:00       1011.7       1011.5               1.7   \n",
       "2021-05-24 20:00:00       1011.9       1011.6               1.7   \n",
       "...                          ...          ...               ...   \n",
       "2021-09-15 08:00:00       1014.3       1013.8               0.9   \n",
       "2021-09-15 09:00:00       1014.8       1014.3               1.7   \n",
       "2021-09-15 10:00:00       1015.4       1014.8               2.1   \n",
       "2021-09-15 11:00:00       1015.9       1015.4               2.4   \n",
       "2021-09-15 12:00:00       1016.3       1015.9               2.8   \n",
       "\n",
       "                     Vento_direcao  Vento_rajada  Radiacao  Precipitacao  \n",
       "2021-05-24 16:00:00          115.0           6.4  2320.934           0.0  \n",
       "2021-05-24 17:00:00          121.0           5.9  1730.853           0.0  \n",
       "2021-05-24 18:00:00          114.0           6.0  2171.761           0.0  \n",
       "2021-05-24 19:00:00          110.0           6.2  1267.740           0.0  \n",
       "2021-05-24 20:00:00          115.0           5.4   226.405           0.0  \n",
       "...                            ...           ...       ...           ...  \n",
       "2021-09-15 08:00:00          131.0           3.4    -2.574           0.0  \n",
       "2021-09-15 09:00:00          127.0           3.7    86.410           0.0  \n",
       "2021-09-15 10:00:00          115.0           5.4   538.194           0.0  \n",
       "2021-09-15 11:00:00          120.0           7.0  1645.910           0.0  \n",
       "2021-09-15 12:00:00          129.0           7.2  1746.090           0.0  \n",
       "\n",
       "[2723 rows x 17 columns]"
      ]
     },
     "execution_count": 2295,
     "metadata": {},
     "output_type": "execute_result"
    }
   ],
   "source": [
    "if len(dados) ==0:\n",
    "    gravar = False\n",
    "    print ('A estacao esta inoperante durante o periodo solicitado: {data1} - {data2}'.format(data1=data_i,data2=data_f))\n",
    "else:\n",
    "    gravar= True\n",
    "\n",
    "dados.head(-5)"
   ]
  },
  {
   "cell_type": "markdown",
   "metadata": {},
   "source": [
    "# 8. Atualizar o banco de dados com as novas informações"
   ]
  },
  {
   "cell_type": "code",
   "execution_count": 2296,
   "metadata": {},
   "outputs": [
    {
     "name": "stdout",
     "output_type": "stream",
     "text": [
      "2021-09-16 16:52:09.860235 -> Dados da estacao 134:A301 atualizada com sucesso!\n"
     ]
    }
   ],
   "source": [
    "if gravar:\n",
    "    dados.to_sql(codigo, conn, if_exists='append', index_label='TIME')\n",
    "    print('{tempo} -> Dados da estacao {navegacao}:{codigo} atualizada com sucesso!'.format(codigo=codigo,navegacao=navegacao,tempo=dt.datetime.now()))\n",
    "    #fechar a conexao com banco de dados\n",
    "    conn.close()\n",
    "    #time.sleep(10)\n",
    "    navegacao = navegacao + 1\n",
    "else:\n",
    "    print('{tempo} -> Não foram feitas alterações na estacao {navegacao}:{codigo}.'.format(codigo=codigo,navegacao=navegacao,tempo=dt.datetime.now()))\n",
    "    #fechar a conexao com banco de dados\n",
    "    conn.close()\n",
    "    #time.sleep(10)\n",
    "    navegacao = navegacao + 1"
   ]
  },
  {
   "cell_type": "code",
   "execution_count": null,
   "metadata": {},
   "outputs": [],
   "source": []
  }
 ],
 "metadata": {
  "kernelspec": {
   "display_name": "Python 3",
   "language": "python",
   "name": "python3"
  },
  "language_info": {
   "codemirror_mode": {
    "name": "ipython",
    "version": 3
   },
   "file_extension": ".py",
   "mimetype": "text/x-python",
   "name": "python",
   "nbconvert_exporter": "python",
   "pygments_lexer": "ipython3",
   "version": "3.8.5"
  }
 },
 "nbformat": 4,
 "nbformat_minor": 4
}
