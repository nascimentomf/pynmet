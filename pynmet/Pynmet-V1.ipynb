{
 "cells": [
  {
   "cell_type": "markdown",
   "metadata": {},
   "source": [
    "# Ler dados das estações automaticas do INMET"
   ]
  },
  {
   "cell_type": "code",
   "execution_count": 3,
   "metadata": {},
   "outputs": [],
   "source": [
    "#importar as bibliotecas\n",
    "import pandas as pd\n",
    "import sqlite3 as sql\n",
    "import datetime as dt"
   ]
  },
  {
   "cell_type": "markdown",
   "metadata": {},
   "source": [
    "# Buscar a situação das estacaoes automaticas\n"
   ]
  },
  {
   "cell_type": "raw",
   "metadata": {},
   "source": [
    "Recuperar dados horários referentes a estação automática ou manual:\n",
    "\n",
    "https://apitempo.inmet.gov.br/estacao/<data_inicial>/<data_final>/<cod_estacao>\n",
    "\n",
    "https://apitempo.inmet.gov.br/estacao/2019-10-23/2019-10-23/A301\n",
    "\n",
    "Sendo data no formato AAAA-MM-DD (ex: 2019-10-23)"
   ]
  },
  {
   "cell_type": "raw",
   "metadata": {},
   "source": [
    "ATRIBUTOS HORARIOS\n",
    "CODIGO ATRIBUTO\tDESCRIÇÃO\tUNIDADE\n",
    "VEN_DIR\tVENTO, DIREÇÃO HORARIA (gr)\t° (gr)\n",
    "CHUVA\tPRECIPITAÇÃO TOTAL, HORÁRIO\tmm\n",
    "PRE_INS\tPRESSÃO ATMOSFÉRICA AO NÍVEL DA ESTACÃO, HORARIA\tmB\n",
    "PRE_MIN\tPRESSÃO ATMOSFÉRICA MIN. NA HORA ANT. (AUT)\tmB\n",
    "UMD_MAX\tUMIDADE REL. MAX. NA HORA ANT. (AUT)\t%\n",
    "PRE_MAX\tPRESSÃO ATMOSFÉRICA MAX.NA HORA ANT. (AUT)\tmB\n",
    "VEN_VEL\tVENTO, VELOCIDADE HORARIA\tm/s\n",
    "PTO_MIN\tTEMPERATURA ORVALHO MIN. NA HORA ANT. (AUT)\t°C\n",
    "TEM_MAX\tTEMPERATURA MÁXIMA NA HORA ANT. (AUT)\t°C\n",
    "RAD_GLO\tRADIAÇÃO GLOBAL\tW/m²\n",
    "PTO_INS\tTEMPERATURA DO PONTO DE ORVALHO\t°C\n",
    "VEN_RAJ\tVENTO, RAJADA MÁXIMA\tm/s\n",
    "TEM_INS\tTEMPERATURA DO AR - BULBO SECO, HORARIA\t°C\n",
    "UMD_INS\tUMIDADE RELATIVA DO AR, HORARIA\t%\n",
    "TEM_MIN\tTEMPERATURA MÍNIMA NA HORA ANT. (AUT)\t°C\n",
    "UMD_MIN\tUMIDADE REL. MIN. NA HORA ANT. (AUT)\t%\n",
    "PTO_MAX\tTEMPERATURA ORVALHO MAX. NA HORA ANT. (AUT)\t°C"
   ]
  },
  {
   "cell_type": "markdown",
   "metadata": {},
   "source": [
    "# TODO: implementar a leitura do codigo da estacao a partir do arquivo CSV"
   ]
  },
  {
   "cell_type": "markdown",
   "metadata": {},
   "source": [
    "Link tutorial json with pans\n",
    "https://stackabuse.com/reading-and-writing-json-files-in-python-with-pandas/#:~:text=To%20read%20a%20JSON%20file,form%20of%20columns%20and%20rows."
   ]
  },
  {
   "cell_type": "markdown",
   "metadata": {},
   "source": [
    "# Ler dados a partir do banco de dados pynmet"
   ]
  },
  {
   "cell_type": "markdown",
   "metadata": {},
   "source": [
    "link tutorial sqlite\n",
    "https://towardsdatascience.com/python-pandas-and-sqlite-a0e2c052456f"
   ]
  },
  {
   "cell_type": "code",
   "execution_count": 1,
   "metadata": {},
   "outputs": [],
   "source": [
    "# codigo da estacao que desejamos atualizar\n",
    "codigo=\"A803\""
   ]
  },
  {
   "cell_type": "code",
   "execution_count": 4,
   "metadata": {},
   "outputs": [],
   "source": [
    "# baixar todas as datas\n",
    "conn = sql.connect(\"inmet.db\")\n",
    "query = \"\"\"\n",
    "SELECT TIME FROM {codigo}\n",
    "\"\"\".format(codigo=codigo)\n",
    "db = pd.read_sql(query,conn)"
   ]
  },
  {
   "cell_type": "markdown",
   "metadata": {},
   "source": [
    "# Buscar a data do ultimo registro cadastrado no banco de dados"
   ]
  },
  {
   "cell_type": "code",
   "execution_count": 5,
   "metadata": {},
   "outputs": [],
   "source": [
    "#definir TIME como indice\n",
    "db.set_index('TIME', inplace=True)"
   ]
  },
  {
   "cell_type": "code",
   "execution_count": 6,
   "metadata": {},
   "outputs": [
    {
     "name": "stdout",
     "output_type": "stream",
     "text": [
      "Tabela para a estacao A803 foi encontrada com sucesso\n"
     ]
    }
   ],
   "source": [
    "if len(db) == 0:\n",
    "    print('Tabela para a estacao {codigo} nao existe ou está vazia'.format(codigo=codigo))\n",
    "else:\n",
    "    print('Tabela para a estacao {codigo} foi encontrada com sucesso'.format(codigo=codigo))"
   ]
  },
  {
   "cell_type": "markdown",
   "metadata": {},
   "source": [
    "# Checar registros de datas duplicadas"
   ]
  },
  {
   "cell_type": "code",
   "execution_count": 7,
   "metadata": {},
   "outputs": [
    {
     "name": "stdout",
     "output_type": "stream",
     "text": [
      "Tudo  em ordem na estacao A803\n"
     ]
    }
   ],
   "source": [
    "if db[db.index.duplicated()].empty:\n",
    "    print('Tudo  em ordem na estacao {codigo}'.format(codigo=codigo))\n",
    "else:\n",
    "    print('Foram encontrados dados duplicados. Implementar solucao!!')"
   ]
  },
  {
   "cell_type": "code",
   "execution_count": 8,
   "metadata": {},
   "outputs": [
    {
     "name": "stdout",
     "output_type": "stream",
     "text": [
      "2021-05-26\n"
     ]
    }
   ],
   "source": [
    "# formato de data para buscar na API do INMET\n",
    "fmt = \"%Y-%m-%d\"\n",
    "\n",
    "# ultimo registro cadastrdo da estacao\n",
    "data_u = db.index.max().split(' ')[0]\n",
    "\n",
    "#converte data do formato texto para o tipo datetime. Util para fazer operacoes de calculo com  data\n",
    "data_u = dt.datetime(int(data_u.split('-')[0]),int(data_u.split('-')[1]),int(data_u.split('-')[2]))\n",
    "\n",
    "print(data_u.strftime(fmt))\n"
   ]
  },
  {
   "cell_type": "markdown",
   "metadata": {},
   "source": [
    "# buscar um periodo entre a ultimo registro e o dia de hoje\n",
    "# * até o momento não existe um limitação quanto ao número de dias"
   ]
  },
  {
   "cell_type": "markdown",
   "metadata": {},
   "source": [
    "# definir alguns limites para o periodo.\n",
    "Não deve exceder a data final não deve exceder o dia de hoje"
   ]
  },
  {
   "cell_type": "code",
   "execution_count": 9,
   "metadata": {},
   "outputs": [
    {
     "name": "stdout",
     "output_type": "stream",
     "text": [
      "Ultima data registrada: 2021-05-26\n",
      "intervalo de busca de 1 dias\n"
     ]
    }
   ],
   "source": [
    "data_h = dt.datetime.now()\n",
    "periodo = data_h - data_u\n",
    "print('Ultima data registrada: {data}'.format(data = data_u.strftime(fmt)))\n",
    "\n",
    "if (data_h.strftime(fmt) == (data_u.strftime(fmt))):\n",
    "    print('Estacao {codigo} esta atualizada'.format(codigo = codigo))\n",
    "    atualizar = False\n",
    "else:\n",
    "    print(\"intervalo de busca de {dias} dias\".format(dias=periodo.days))\n",
    "    atualizar = True"
   ]
  },
  {
   "cell_type": "code",
   "execution_count": 10,
   "metadata": {},
   "outputs": [
    {
     "name": "stdout",
     "output_type": "stream",
     "text": [
      "2021-05-27\n"
     ]
    }
   ],
   "source": [
    "data_f = data_u + dt.timedelta(days=periodo.days)\n",
    "print(data_f.strftime(fmt))"
   ]
  },
  {
   "cell_type": "code",
   "execution_count": 11,
   "metadata": {},
   "outputs": [
    {
     "name": "stdout",
     "output_type": "stream",
     "text": [
      "https://apitempo.inmet.gov.br/estacao/2021-05-26/2021-05-27/A803\n"
     ]
    }
   ],
   "source": [
    "data_i = data_u.strftime(fmt)\n",
    "data_f = data_f.strftime(fmt)\n",
    "\n",
    "url = \"https://apitempo.inmet.gov.br/estacao/\"+data_i+\"/\"+data_f+\"/\"+codigo\n",
    "\n",
    "if atualizar:\n",
    "    print(url)\n",
    "else:\n",
    "    print('Tudo esta em ordem com a estacao {codigo}'.format(codigo=codigo))"
   ]
  },
  {
   "cell_type": "markdown",
   "metadata": {},
   "source": [
    "# realizar a consulta pela API e criar o dateframe com o resultdo"
   ]
  },
  {
   "cell_type": "code",
   "execution_count": 12,
   "metadata": {},
   "outputs": [],
   "source": [
    "if atualizar:\n",
    "    df = pd.read_json(url)\n",
    "else:\n",
    "    print('Nada a fazer. A estacao {codigo} esta atualizada'.format(codigo=codigo))"
   ]
  },
  {
   "cell_type": "markdown",
   "metadata": {},
   "source": [
    "# Seguir os passos do 1 ate o 8 caso seja necessário atualizar."
   ]
  },
  {
   "cell_type": "markdown",
   "metadata": {},
   "source": [
    "# 1. Renomear as colunas compativel com o padrão do Pynmet\n",
    "(https://stackoverflow.com/questions/11346283/renaming-columns-in-pandas)"
   ]
  },
  {
   "cell_type": "raw",
   "metadata": {},
   "source": [
    "header = ['Temperatura', 'Temperatura_max', 'Temperatura_min', 'Umidade',\n",
    "          'Umidade_max', 'Umidade_min', 'Ponto_orvalho',\n",
    "          'Ponto_orvalho_max', 'Ponto_orvalho_min', 'Pressao',\n",
    "          'Pressao_max', 'Pressao_min', 'Vento_velocidade', 'Vento_direcao',\n",
    "          'Vento_rajada', 'Radiacao', 'Precipitacao']\n",
    "https://github.com/sehnem/pynmet/tree/master/pynmet "
   ]
  },
  {
   "cell_type": "code",
   "execution_count": 13,
   "metadata": {},
   "outputs": [],
   "source": [
    "df = df.rename(columns = {'TEM_INS':'Temperatura', 'TEM_MAX':'Temperatura_max', 'TEM_MIN':'Temperatura_min', 'UMD_INS':'Umidade',\n",
    "          'UMD_MAX':'Umidade_max', 'UMD_MIN':'Umidade_min', 'PTO_INS':'Ponto_orvalho',\n",
    "          'PTO_MAX':'Ponto_orvalho_max', 'PTO_MIN':'Ponto_orvalho_min', 'PRE_INS':'Pressao',\n",
    "          'PRE_MAX':'Pressao_max', 'PRE_MIN':'Pressao_min', 'VEN_VEL':'Vento_velocidade', 'VEN_DIR':'Vento_direcao',\n",
    "          'VEN_RAJ':'Vento_rajada', 'RAD_GLO':'Radiacao', 'CHUVA':'Precipitacao'})"
   ]
  },
  {
   "cell_type": "markdown",
   "metadata": {},
   "source": [
    "# 2. Criar datetime [2019/05/29 13:00:00 ] com as colunas 'DT_MEDICAO' e 'HR_MEDICAO'  \n",
    "\n",
    "\n",
    "# 3. Definir o datetime criado como index do dataframe"
   ]
  },
  {
   "cell_type": "code",
   "execution_count": 14,
   "metadata": {},
   "outputs": [],
   "source": [
    "# ajuste da hora para ficar no padrao %H Ex 1 ao inves de 100\n",
    "df['HR_MEDICAO'] = df['HR_MEDICAO'].apply(lambda x: x/100).astype(int)\n",
    "#converte a data e hora para o tipo texto\n",
    "df[['DT_MEDICAO','HR_MEDICAO']] = df[['DT_MEDICAO','HR_MEDICAO']].astype(str)\n",
    "#Cria uma lista com o datetime no paadrao %Y-%m-%d%H 2020-05-01 13:00:00\n",
    "data = pd.to_datetime(df['DT_MEDICAO'] + df['HR_MEDICAO'], format=\"%Y-%m-%d%H\")\n",
    "#Associa o datetime ao indice dos dados baixados\n",
    "df.set_index(data, inplace=True)"
   ]
  },
  {
   "cell_type": "markdown",
   "metadata": {},
   "source": [
    "# 4. Apagar colunas que não precisamos \n",
    "['DT_MEDICAO','DC_NOME','VL_LATITUDE','UF','CD_ESTACAO','VL_LONGITUDE','HR_MEDICAO']"
   ]
  },
  {
   "cell_type": "code",
   "execution_count": 15,
   "metadata": {},
   "outputs": [],
   "source": [
    "df.drop(['DT_MEDICAO','DC_NOME','VL_LATITUDE','UF','CD_ESTACAO','VL_LONGITUDE','HR_MEDICAO'], axis=1, inplace=True)"
   ]
  },
  {
   "cell_type": "markdown",
   "metadata": {},
   "source": [
    "# 5. Reordenar as colunas na sequencia armazenada no inmet.db\n",
    "(https://stackoverflow.com/questions/13148429/how-to-change-the-order-of-dataframe-columns)"
   ]
  },
  {
   "cell_type": "code",
   "execution_count": 16,
   "metadata": {},
   "outputs": [],
   "source": [
    "df = df[['Temperatura', 'Temperatura_max', 'Temperatura_min', 'Umidade', 'Umidade_max', 'Umidade_min', 'Ponto_orvalho', 'Ponto_orvalho_max', 'Ponto_orvalho_min', 'Pressao', 'Pressao_max', 'Pressao_min', 'Vento_velocidade', 'Vento_direcao', 'Vento_rajada', 'Radiacao', 'Precipitacao']]"
   ]
  },
  {
   "cell_type": "markdown",
   "metadata": {},
   "source": [
    "# 6. verificar se o periodo baixado do INMET já está cadastrado no banco de dados do pynmet"
   ]
  },
  {
   "cell_type": "markdown",
   "metadata": {},
   "source": [
    "# 7. Remover linhas caso todos os valores sejam NA"
   ]
  },
  {
   "cell_type": "code",
   "execution_count": 17,
   "metadata": {},
   "outputs": [],
   "source": [
    "# se no banco de dados a ultima informacao gravada foi a leitura das 13h do dia 20/05/2020,\n",
    "# então apenas devera mostrar as leituras a partir das 14h em diante do dia 20/05/2020.\n",
    "# evitar duplicar informações salvas no db\n",
    "dados = df[~df.index.isin(db.index)]"
   ]
  },
  {
   "cell_type": "code",
   "execution_count": 18,
   "metadata": {},
   "outputs": [],
   "source": [
    "# elimina as linhas da data de hj que não tem cadastro no INMET.\n",
    "dados = dados.dropna(how='all')"
   ]
  },
  {
   "cell_type": "markdown",
   "metadata": {},
   "source": [
    "# Gravar as informações no banco de dados\n",
    "# Backup do arquivo antes de fazer alterações\n",
    "# Revisar os dados antes de salvar!!!!"
   ]
  },
  {
   "cell_type": "code",
   "execution_count": 19,
   "metadata": {},
   "outputs": [
    {
     "data": {
      "text/html": [
       "<div>\n",
       "<style scoped>\n",
       "    .dataframe tbody tr th:only-of-type {\n",
       "        vertical-align: middle;\n",
       "    }\n",
       "\n",
       "    .dataframe tbody tr th {\n",
       "        vertical-align: top;\n",
       "    }\n",
       "\n",
       "    .dataframe thead th {\n",
       "        text-align: right;\n",
       "    }\n",
       "</style>\n",
       "<table border=\"1\" class=\"dataframe\">\n",
       "  <thead>\n",
       "    <tr style=\"text-align: right;\">\n",
       "      <th></th>\n",
       "      <th>Temperatura</th>\n",
       "      <th>Temperatura_max</th>\n",
       "      <th>Temperatura_min</th>\n",
       "      <th>Umidade</th>\n",
       "      <th>Umidade_max</th>\n",
       "      <th>Umidade_min</th>\n",
       "      <th>Ponto_orvalho</th>\n",
       "      <th>Ponto_orvalho_max</th>\n",
       "      <th>Ponto_orvalho_min</th>\n",
       "      <th>Pressao</th>\n",
       "      <th>Pressao_max</th>\n",
       "      <th>Pressao_min</th>\n",
       "      <th>Vento_velocidade</th>\n",
       "      <th>Vento_direcao</th>\n",
       "      <th>Vento_rajada</th>\n",
       "      <th>Radiacao</th>\n",
       "      <th>Precipitacao</th>\n",
       "    </tr>\n",
       "  </thead>\n",
       "  <tbody>\n",
       "    <tr>\n",
       "      <th>2021-05-26 13:00:00</th>\n",
       "      <td>12.1</td>\n",
       "      <td>12.1</td>\n",
       "      <td>9.4</td>\n",
       "      <td>86.0</td>\n",
       "      <td>94.0</td>\n",
       "      <td>83.0</td>\n",
       "      <td>9.8</td>\n",
       "      <td>10.1</td>\n",
       "      <td>8.4</td>\n",
       "      <td>1009.2</td>\n",
       "      <td>1009.3</td>\n",
       "      <td>1008.7</td>\n",
       "      <td>NaN</td>\n",
       "      <td>NaN</td>\n",
       "      <td>NaN</td>\n",
       "      <td>1253.802</td>\n",
       "      <td>0.0</td>\n",
       "    </tr>\n",
       "    <tr>\n",
       "      <th>2021-05-26 14:00:00</th>\n",
       "      <td>16.0</td>\n",
       "      <td>16.6</td>\n",
       "      <td>12.1</td>\n",
       "      <td>70.0</td>\n",
       "      <td>86.0</td>\n",
       "      <td>67.0</td>\n",
       "      <td>10.6</td>\n",
       "      <td>11.3</td>\n",
       "      <td>9.7</td>\n",
       "      <td>1008.6</td>\n",
       "      <td>1009.2</td>\n",
       "      <td>1008.4</td>\n",
       "      <td>NaN</td>\n",
       "      <td>NaN</td>\n",
       "      <td>NaN</td>\n",
       "      <td>1769.084</td>\n",
       "      <td>0.0</td>\n",
       "    </tr>\n",
       "    <tr>\n",
       "      <th>2021-05-26 15:00:00</th>\n",
       "      <td>17.9</td>\n",
       "      <td>17.9</td>\n",
       "      <td>15.8</td>\n",
       "      <td>60.0</td>\n",
       "      <td>72.0</td>\n",
       "      <td>59.0</td>\n",
       "      <td>10.1</td>\n",
       "      <td>11.4</td>\n",
       "      <td>9.6</td>\n",
       "      <td>1008.0</td>\n",
       "      <td>1008.8</td>\n",
       "      <td>1008.0</td>\n",
       "      <td>NaN</td>\n",
       "      <td>NaN</td>\n",
       "      <td>NaN</td>\n",
       "      <td>2108.258</td>\n",
       "      <td>0.0</td>\n",
       "    </tr>\n",
       "    <tr>\n",
       "      <th>2021-05-26 16:00:00</th>\n",
       "      <td>18.7</td>\n",
       "      <td>19.3</td>\n",
       "      <td>17.7</td>\n",
       "      <td>54.0</td>\n",
       "      <td>63.0</td>\n",
       "      <td>52.0</td>\n",
       "      <td>9.2</td>\n",
       "      <td>10.7</td>\n",
       "      <td>9.0</td>\n",
       "      <td>1006.8</td>\n",
       "      <td>1008.0</td>\n",
       "      <td>1006.8</td>\n",
       "      <td>NaN</td>\n",
       "      <td>NaN</td>\n",
       "      <td>NaN</td>\n",
       "      <td>2240.304</td>\n",
       "      <td>0.0</td>\n",
       "    </tr>\n",
       "    <tr>\n",
       "      <th>2021-05-26 17:00:00</th>\n",
       "      <td>19.5</td>\n",
       "      <td>19.7</td>\n",
       "      <td>18.7</td>\n",
       "      <td>53.0</td>\n",
       "      <td>59.0</td>\n",
       "      <td>52.0</td>\n",
       "      <td>9.8</td>\n",
       "      <td>11.0</td>\n",
       "      <td>9.2</td>\n",
       "      <td>1006.0</td>\n",
       "      <td>1006.8</td>\n",
       "      <td>1006.0</td>\n",
       "      <td>NaN</td>\n",
       "      <td>NaN</td>\n",
       "      <td>NaN</td>\n",
       "      <td>2138.390</td>\n",
       "      <td>0.0</td>\n",
       "    </tr>\n",
       "    <tr>\n",
       "      <th>2021-05-26 18:00:00</th>\n",
       "      <td>20.3</td>\n",
       "      <td>21.2</td>\n",
       "      <td>19.4</td>\n",
       "      <td>52.0</td>\n",
       "      <td>56.0</td>\n",
       "      <td>49.0</td>\n",
       "      <td>10.1</td>\n",
       "      <td>10.9</td>\n",
       "      <td>9.6</td>\n",
       "      <td>1005.5</td>\n",
       "      <td>1006.0</td>\n",
       "      <td>1005.4</td>\n",
       "      <td>NaN</td>\n",
       "      <td>NaN</td>\n",
       "      <td>NaN</td>\n",
       "      <td>1815.327</td>\n",
       "      <td>0.0</td>\n",
       "    </tr>\n",
       "    <tr>\n",
       "      <th>2021-05-26 19:00:00</th>\n",
       "      <td>20.3</td>\n",
       "      <td>20.9</td>\n",
       "      <td>19.7</td>\n",
       "      <td>53.0</td>\n",
       "      <td>56.0</td>\n",
       "      <td>51.0</td>\n",
       "      <td>10.4</td>\n",
       "      <td>10.9</td>\n",
       "      <td>9.4</td>\n",
       "      <td>1004.5</td>\n",
       "      <td>1005.5</td>\n",
       "      <td>1004.5</td>\n",
       "      <td>NaN</td>\n",
       "      <td>NaN</td>\n",
       "      <td>NaN</td>\n",
       "      <td>1322.206</td>\n",
       "      <td>0.0</td>\n",
       "    </tr>\n",
       "    <tr>\n",
       "      <th>2021-05-26 20:00:00</th>\n",
       "      <td>18.9</td>\n",
       "      <td>20.7</td>\n",
       "      <td>18.9</td>\n",
       "      <td>58.0</td>\n",
       "      <td>59.0</td>\n",
       "      <td>51.0</td>\n",
       "      <td>10.4</td>\n",
       "      <td>10.9</td>\n",
       "      <td>10.0</td>\n",
       "      <td>1004.4</td>\n",
       "      <td>1004.6</td>\n",
       "      <td>1004.4</td>\n",
       "      <td>NaN</td>\n",
       "      <td>NaN</td>\n",
       "      <td>NaN</td>\n",
       "      <td>686.667</td>\n",
       "      <td>0.0</td>\n",
       "    </tr>\n",
       "    <tr>\n",
       "      <th>2021-05-26 21:00:00</th>\n",
       "      <td>15.0</td>\n",
       "      <td>18.9</td>\n",
       "      <td>15.0</td>\n",
       "      <td>78.0</td>\n",
       "      <td>78.0</td>\n",
       "      <td>58.0</td>\n",
       "      <td>11.1</td>\n",
       "      <td>11.1</td>\n",
       "      <td>10.1</td>\n",
       "      <td>1004.7</td>\n",
       "      <td>1004.7</td>\n",
       "      <td>1004.4</td>\n",
       "      <td>NaN</td>\n",
       "      <td>NaN</td>\n",
       "      <td>NaN</td>\n",
       "      <td>67.538</td>\n",
       "      <td>0.0</td>\n",
       "    </tr>\n",
       "    <tr>\n",
       "      <th>2021-05-26 22:00:00</th>\n",
       "      <td>12.0</td>\n",
       "      <td>15.0</td>\n",
       "      <td>12.0</td>\n",
       "      <td>92.0</td>\n",
       "      <td>92.0</td>\n",
       "      <td>74.0</td>\n",
       "      <td>10.7</td>\n",
       "      <td>11.4</td>\n",
       "      <td>10.1</td>\n",
       "      <td>1004.8</td>\n",
       "      <td>1004.8</td>\n",
       "      <td>1004.7</td>\n",
       "      <td>NaN</td>\n",
       "      <td>NaN</td>\n",
       "      <td>NaN</td>\n",
       "      <td>-3.600</td>\n",
       "      <td>0.0</td>\n",
       "    </tr>\n",
       "    <tr>\n",
       "      <th>2021-05-26 23:00:00</th>\n",
       "      <td>10.6</td>\n",
       "      <td>12.0</td>\n",
       "      <td>10.5</td>\n",
       "      <td>96.0</td>\n",
       "      <td>96.0</td>\n",
       "      <td>92.0</td>\n",
       "      <td>10.1</td>\n",
       "      <td>10.8</td>\n",
       "      <td>9.9</td>\n",
       "      <td>1004.9</td>\n",
       "      <td>1004.9</td>\n",
       "      <td>1004.7</td>\n",
       "      <td>NaN</td>\n",
       "      <td>NaN</td>\n",
       "      <td>NaN</td>\n",
       "      <td>-3.600</td>\n",
       "      <td>0.0</td>\n",
       "    </tr>\n",
       "    <tr>\n",
       "      <th>2021-05-27 00:00:00</th>\n",
       "      <td>10.0</td>\n",
       "      <td>10.6</td>\n",
       "      <td>9.8</td>\n",
       "      <td>98.0</td>\n",
       "      <td>99.0</td>\n",
       "      <td>96.0</td>\n",
       "      <td>9.7</td>\n",
       "      <td>10.2</td>\n",
       "      <td>9.5</td>\n",
       "      <td>1005.5</td>\n",
       "      <td>1005.5</td>\n",
       "      <td>1004.9</td>\n",
       "      <td>NaN</td>\n",
       "      <td>NaN</td>\n",
       "      <td>NaN</td>\n",
       "      <td>-3.600</td>\n",
       "      <td>0.0</td>\n",
       "    </tr>\n",
       "    <tr>\n",
       "      <th>2021-05-27 01:00:00</th>\n",
       "      <td>8.9</td>\n",
       "      <td>10.0</td>\n",
       "      <td>8.8</td>\n",
       "      <td>98.0</td>\n",
       "      <td>99.0</td>\n",
       "      <td>98.0</td>\n",
       "      <td>8.6</td>\n",
       "      <td>9.7</td>\n",
       "      <td>8.6</td>\n",
       "      <td>1005.2</td>\n",
       "      <td>1005.5</td>\n",
       "      <td>1005.2</td>\n",
       "      <td>NaN</td>\n",
       "      <td>NaN</td>\n",
       "      <td>NaN</td>\n",
       "      <td>-3.600</td>\n",
       "      <td>0.0</td>\n",
       "    </tr>\n",
       "    <tr>\n",
       "      <th>2021-05-27 02:00:00</th>\n",
       "      <td>8.5</td>\n",
       "      <td>9.1</td>\n",
       "      <td>8.3</td>\n",
       "      <td>99.0</td>\n",
       "      <td>99.0</td>\n",
       "      <td>98.0</td>\n",
       "      <td>8.3</td>\n",
       "      <td>8.8</td>\n",
       "      <td>8.1</td>\n",
       "      <td>1005.1</td>\n",
       "      <td>1005.2</td>\n",
       "      <td>1004.7</td>\n",
       "      <td>NaN</td>\n",
       "      <td>NaN</td>\n",
       "      <td>NaN</td>\n",
       "      <td>-3.600</td>\n",
       "      <td>0.0</td>\n",
       "    </tr>\n",
       "    <tr>\n",
       "      <th>2021-05-27 03:00:00</th>\n",
       "      <td>7.7</td>\n",
       "      <td>8.8</td>\n",
       "      <td>7.7</td>\n",
       "      <td>99.0</td>\n",
       "      <td>99.0</td>\n",
       "      <td>99.0</td>\n",
       "      <td>7.5</td>\n",
       "      <td>8.7</td>\n",
       "      <td>7.5</td>\n",
       "      <td>1005.4</td>\n",
       "      <td>1005.4</td>\n",
       "      <td>1004.9</td>\n",
       "      <td>NaN</td>\n",
       "      <td>NaN</td>\n",
       "      <td>NaN</td>\n",
       "      <td>-3.600</td>\n",
       "      <td>0.0</td>\n",
       "    </tr>\n",
       "    <tr>\n",
       "      <th>2021-05-27 04:00:00</th>\n",
       "      <td>7.6</td>\n",
       "      <td>8.5</td>\n",
       "      <td>7.3</td>\n",
       "      <td>99.0</td>\n",
       "      <td>99.0</td>\n",
       "      <td>99.0</td>\n",
       "      <td>7.5</td>\n",
       "      <td>8.4</td>\n",
       "      <td>7.1</td>\n",
       "      <td>1005.4</td>\n",
       "      <td>1005.6</td>\n",
       "      <td>1005.2</td>\n",
       "      <td>NaN</td>\n",
       "      <td>NaN</td>\n",
       "      <td>NaN</td>\n",
       "      <td>-3.600</td>\n",
       "      <td>0.0</td>\n",
       "    </tr>\n",
       "    <tr>\n",
       "      <th>2021-05-27 05:00:00</th>\n",
       "      <td>7.7</td>\n",
       "      <td>8.2</td>\n",
       "      <td>6.8</td>\n",
       "      <td>99.0</td>\n",
       "      <td>99.0</td>\n",
       "      <td>99.0</td>\n",
       "      <td>7.6</td>\n",
       "      <td>8.0</td>\n",
       "      <td>6.6</td>\n",
       "      <td>1005.1</td>\n",
       "      <td>1005.4</td>\n",
       "      <td>1004.7</td>\n",
       "      <td>NaN</td>\n",
       "      <td>NaN</td>\n",
       "      <td>NaN</td>\n",
       "      <td>-3.600</td>\n",
       "      <td>0.0</td>\n",
       "    </tr>\n",
       "    <tr>\n",
       "      <th>2021-05-27 06:00:00</th>\n",
       "      <td>7.2</td>\n",
       "      <td>7.7</td>\n",
       "      <td>7.0</td>\n",
       "      <td>99.0</td>\n",
       "      <td>99.0</td>\n",
       "      <td>99.0</td>\n",
       "      <td>7.1</td>\n",
       "      <td>7.5</td>\n",
       "      <td>6.9</td>\n",
       "      <td>1004.9</td>\n",
       "      <td>1005.3</td>\n",
       "      <td>1004.9</td>\n",
       "      <td>NaN</td>\n",
       "      <td>NaN</td>\n",
       "      <td>NaN</td>\n",
       "      <td>-3.600</td>\n",
       "      <td>0.0</td>\n",
       "    </tr>\n",
       "    <tr>\n",
       "      <th>2021-05-27 07:00:00</th>\n",
       "      <td>7.3</td>\n",
       "      <td>7.7</td>\n",
       "      <td>6.6</td>\n",
       "      <td>99.0</td>\n",
       "      <td>99.0</td>\n",
       "      <td>99.0</td>\n",
       "      <td>7.2</td>\n",
       "      <td>7.6</td>\n",
       "      <td>6.5</td>\n",
       "      <td>1004.2</td>\n",
       "      <td>1004.9</td>\n",
       "      <td>1004.0</td>\n",
       "      <td>NaN</td>\n",
       "      <td>NaN</td>\n",
       "      <td>NaN</td>\n",
       "      <td>-3.600</td>\n",
       "      <td>0.0</td>\n",
       "    </tr>\n",
       "    <tr>\n",
       "      <th>2021-05-27 08:00:00</th>\n",
       "      <td>6.5</td>\n",
       "      <td>7.3</td>\n",
       "      <td>6.3</td>\n",
       "      <td>99.0</td>\n",
       "      <td>99.0</td>\n",
       "      <td>99.0</td>\n",
       "      <td>6.4</td>\n",
       "      <td>7.2</td>\n",
       "      <td>6.2</td>\n",
       "      <td>1003.9</td>\n",
       "      <td>1004.2</td>\n",
       "      <td>1003.9</td>\n",
       "      <td>NaN</td>\n",
       "      <td>NaN</td>\n",
       "      <td>NaN</td>\n",
       "      <td>-3.600</td>\n",
       "      <td>0.0</td>\n",
       "    </tr>\n",
       "  </tbody>\n",
       "</table>\n",
       "</div>"
      ],
      "text/plain": [
       "                     Temperatura  Temperatura_max  Temperatura_min  Umidade  \\\n",
       "2021-05-26 13:00:00         12.1             12.1              9.4     86.0   \n",
       "2021-05-26 14:00:00         16.0             16.6             12.1     70.0   \n",
       "2021-05-26 15:00:00         17.9             17.9             15.8     60.0   \n",
       "2021-05-26 16:00:00         18.7             19.3             17.7     54.0   \n",
       "2021-05-26 17:00:00         19.5             19.7             18.7     53.0   \n",
       "2021-05-26 18:00:00         20.3             21.2             19.4     52.0   \n",
       "2021-05-26 19:00:00         20.3             20.9             19.7     53.0   \n",
       "2021-05-26 20:00:00         18.9             20.7             18.9     58.0   \n",
       "2021-05-26 21:00:00         15.0             18.9             15.0     78.0   \n",
       "2021-05-26 22:00:00         12.0             15.0             12.0     92.0   \n",
       "2021-05-26 23:00:00         10.6             12.0             10.5     96.0   \n",
       "2021-05-27 00:00:00         10.0             10.6              9.8     98.0   \n",
       "2021-05-27 01:00:00          8.9             10.0              8.8     98.0   \n",
       "2021-05-27 02:00:00          8.5              9.1              8.3     99.0   \n",
       "2021-05-27 03:00:00          7.7              8.8              7.7     99.0   \n",
       "2021-05-27 04:00:00          7.6              8.5              7.3     99.0   \n",
       "2021-05-27 05:00:00          7.7              8.2              6.8     99.0   \n",
       "2021-05-27 06:00:00          7.2              7.7              7.0     99.0   \n",
       "2021-05-27 07:00:00          7.3              7.7              6.6     99.0   \n",
       "2021-05-27 08:00:00          6.5              7.3              6.3     99.0   \n",
       "\n",
       "                     Umidade_max  Umidade_min  Ponto_orvalho  \\\n",
       "2021-05-26 13:00:00         94.0         83.0            9.8   \n",
       "2021-05-26 14:00:00         86.0         67.0           10.6   \n",
       "2021-05-26 15:00:00         72.0         59.0           10.1   \n",
       "2021-05-26 16:00:00         63.0         52.0            9.2   \n",
       "2021-05-26 17:00:00         59.0         52.0            9.8   \n",
       "2021-05-26 18:00:00         56.0         49.0           10.1   \n",
       "2021-05-26 19:00:00         56.0         51.0           10.4   \n",
       "2021-05-26 20:00:00         59.0         51.0           10.4   \n",
       "2021-05-26 21:00:00         78.0         58.0           11.1   \n",
       "2021-05-26 22:00:00         92.0         74.0           10.7   \n",
       "2021-05-26 23:00:00         96.0         92.0           10.1   \n",
       "2021-05-27 00:00:00         99.0         96.0            9.7   \n",
       "2021-05-27 01:00:00         99.0         98.0            8.6   \n",
       "2021-05-27 02:00:00         99.0         98.0            8.3   \n",
       "2021-05-27 03:00:00         99.0         99.0            7.5   \n",
       "2021-05-27 04:00:00         99.0         99.0            7.5   \n",
       "2021-05-27 05:00:00         99.0         99.0            7.6   \n",
       "2021-05-27 06:00:00         99.0         99.0            7.1   \n",
       "2021-05-27 07:00:00         99.0         99.0            7.2   \n",
       "2021-05-27 08:00:00         99.0         99.0            6.4   \n",
       "\n",
       "                     Ponto_orvalho_max  Ponto_orvalho_min  Pressao  \\\n",
       "2021-05-26 13:00:00               10.1                8.4   1009.2   \n",
       "2021-05-26 14:00:00               11.3                9.7   1008.6   \n",
       "2021-05-26 15:00:00               11.4                9.6   1008.0   \n",
       "2021-05-26 16:00:00               10.7                9.0   1006.8   \n",
       "2021-05-26 17:00:00               11.0                9.2   1006.0   \n",
       "2021-05-26 18:00:00               10.9                9.6   1005.5   \n",
       "2021-05-26 19:00:00               10.9                9.4   1004.5   \n",
       "2021-05-26 20:00:00               10.9               10.0   1004.4   \n",
       "2021-05-26 21:00:00               11.1               10.1   1004.7   \n",
       "2021-05-26 22:00:00               11.4               10.1   1004.8   \n",
       "2021-05-26 23:00:00               10.8                9.9   1004.9   \n",
       "2021-05-27 00:00:00               10.2                9.5   1005.5   \n",
       "2021-05-27 01:00:00                9.7                8.6   1005.2   \n",
       "2021-05-27 02:00:00                8.8                8.1   1005.1   \n",
       "2021-05-27 03:00:00                8.7                7.5   1005.4   \n",
       "2021-05-27 04:00:00                8.4                7.1   1005.4   \n",
       "2021-05-27 05:00:00                8.0                6.6   1005.1   \n",
       "2021-05-27 06:00:00                7.5                6.9   1004.9   \n",
       "2021-05-27 07:00:00                7.6                6.5   1004.2   \n",
       "2021-05-27 08:00:00                7.2                6.2   1003.9   \n",
       "\n",
       "                     Pressao_max  Pressao_min  Vento_velocidade  \\\n",
       "2021-05-26 13:00:00       1009.3       1008.7               NaN   \n",
       "2021-05-26 14:00:00       1009.2       1008.4               NaN   \n",
       "2021-05-26 15:00:00       1008.8       1008.0               NaN   \n",
       "2021-05-26 16:00:00       1008.0       1006.8               NaN   \n",
       "2021-05-26 17:00:00       1006.8       1006.0               NaN   \n",
       "2021-05-26 18:00:00       1006.0       1005.4               NaN   \n",
       "2021-05-26 19:00:00       1005.5       1004.5               NaN   \n",
       "2021-05-26 20:00:00       1004.6       1004.4               NaN   \n",
       "2021-05-26 21:00:00       1004.7       1004.4               NaN   \n",
       "2021-05-26 22:00:00       1004.8       1004.7               NaN   \n",
       "2021-05-26 23:00:00       1004.9       1004.7               NaN   \n",
       "2021-05-27 00:00:00       1005.5       1004.9               NaN   \n",
       "2021-05-27 01:00:00       1005.5       1005.2               NaN   \n",
       "2021-05-27 02:00:00       1005.2       1004.7               NaN   \n",
       "2021-05-27 03:00:00       1005.4       1004.9               NaN   \n",
       "2021-05-27 04:00:00       1005.6       1005.2               NaN   \n",
       "2021-05-27 05:00:00       1005.4       1004.7               NaN   \n",
       "2021-05-27 06:00:00       1005.3       1004.9               NaN   \n",
       "2021-05-27 07:00:00       1004.9       1004.0               NaN   \n",
       "2021-05-27 08:00:00       1004.2       1003.9               NaN   \n",
       "\n",
       "                     Vento_direcao  Vento_rajada  Radiacao  Precipitacao  \n",
       "2021-05-26 13:00:00            NaN           NaN  1253.802           0.0  \n",
       "2021-05-26 14:00:00            NaN           NaN  1769.084           0.0  \n",
       "2021-05-26 15:00:00            NaN           NaN  2108.258           0.0  \n",
       "2021-05-26 16:00:00            NaN           NaN  2240.304           0.0  \n",
       "2021-05-26 17:00:00            NaN           NaN  2138.390           0.0  \n",
       "2021-05-26 18:00:00            NaN           NaN  1815.327           0.0  \n",
       "2021-05-26 19:00:00            NaN           NaN  1322.206           0.0  \n",
       "2021-05-26 20:00:00            NaN           NaN   686.667           0.0  \n",
       "2021-05-26 21:00:00            NaN           NaN    67.538           0.0  \n",
       "2021-05-26 22:00:00            NaN           NaN    -3.600           0.0  \n",
       "2021-05-26 23:00:00            NaN           NaN    -3.600           0.0  \n",
       "2021-05-27 00:00:00            NaN           NaN    -3.600           0.0  \n",
       "2021-05-27 01:00:00            NaN           NaN    -3.600           0.0  \n",
       "2021-05-27 02:00:00            NaN           NaN    -3.600           0.0  \n",
       "2021-05-27 03:00:00            NaN           NaN    -3.600           0.0  \n",
       "2021-05-27 04:00:00            NaN           NaN    -3.600           0.0  \n",
       "2021-05-27 05:00:00            NaN           NaN    -3.600           0.0  \n",
       "2021-05-27 06:00:00            NaN           NaN    -3.600           0.0  \n",
       "2021-05-27 07:00:00            NaN           NaN    -3.600           0.0  \n",
       "2021-05-27 08:00:00            NaN           NaN    -3.600           0.0  "
      ]
     },
     "execution_count": 19,
     "metadata": {},
     "output_type": "execute_result"
    }
   ],
   "source": [
    "if len(dados) ==0:\n",
    "    gravar = False\n",
    "    print ('A estacao esta inoperante durante o periodo solicitado: {data1} - {data2}'.format(data1=data_i,data2=data_f))\n",
    "else:\n",
    "    gravar= True\n",
    "\n",
    "dados.head(-5)"
   ]
  },
  {
   "cell_type": "markdown",
   "metadata": {},
   "source": [
    "# 8. Atualizar o banco de dados com as novas informações"
   ]
  },
  {
   "cell_type": "code",
   "execution_count": 20,
   "metadata": {},
   "outputs": [
    {
     "name": "stdout",
     "output_type": "stream",
     "text": [
      "Dados da estacao A803 atualizada com sucesso!\n"
     ]
    }
   ],
   "source": [
    "if gravar:\n",
    "    dados.to_sql(codigo, conn, if_exists='append', index_label='TIME')\n",
    "    print('Dados da estacao {codigo} atualizada com sucesso!'.format(codigo=codigo))\n",
    "else:\n",
    "    print('Não foram feitas alterações na estacao {codigo}.'.format(codigo=codigo))"
   ]
  },
  {
   "cell_type": "code",
   "execution_count": null,
   "metadata": {},
   "outputs": [],
   "source": []
  }
 ],
 "metadata": {
  "kernelspec": {
   "display_name": "Python 3",
   "language": "python",
   "name": "python3"
  },
  "language_info": {
   "codemirror_mode": {
    "name": "ipython",
    "version": 3
   },
   "file_extension": ".py",
   "mimetype": "text/x-python",
   "name": "python",
   "nbconvert_exporter": "python",
   "pygments_lexer": "ipython3",
   "version": "3.8.5"
  }
 },
 "nbformat": 4,
 "nbformat_minor": 4
}
